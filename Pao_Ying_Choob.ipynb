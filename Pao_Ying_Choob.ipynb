{
  "nbformat": 4,
  "nbformat_minor": 0,
  "metadata": {
    "colab": {
      "provenance": [],
      "authorship_tag": "ABX9TyMqqNyz7NBd8NRcyipVsViG",
      "include_colab_link": true
    },
    "kernelspec": {
      "name": "python3",
      "display_name": "Python 3"
    },
    "language_info": {
      "name": "python"
    }
  },
  "cells": [
    {
      "cell_type": "markdown",
      "metadata": {
        "id": "view-in-github",
        "colab_type": "text"
      },
      "source": [
        "<a href=\"https://colab.research.google.com/github/dandeminnen/bootcamp_projects/blob/main/Pao_Ying_Choob.ipynb\" target=\"_parent\"><img src=\"https://colab.research.google.com/assets/colab-badge.svg\" alt=\"Open In Colab\"/></a>"
      ]
    },
    {
      "cell_type": "code",
      "source": [
        "print(\"Let's play Rock-Paper-Scissors!\")"
      ],
      "metadata": {
        "colab": {
          "base_uri": "https://localhost:8080/"
        },
        "id": "b42AdAho-Dkp",
        "outputId": "2d1d09f2-5401-4095-9455-f437e8f76493"
      },
      "execution_count": null,
      "outputs": [
        {
          "output_type": "stream",
          "name": "stdout",
          "text": [
            "Let's play Rock-Paper-Scissors!\n"
          ]
        }
      ]
    },
    {
      "cell_type": "code",
      "execution_count": null,
      "metadata": {
        "id": "woh44xlu8NvA"
      },
      "outputs": [],
      "source": [
        "score = 0\n",
        "nround = 0"
      ]
    },
    {
      "cell_type": "code",
      "source": [
        "import random\n",
        "\n",
        "while True:\n",
        "    print(\"Please enter your turn: 1. Rock, 2. Paper, 3. Scissors or 0. Quit\")\n",
        "    player = int(input(\"Your turn: \"))\n",
        "    bot = random.randint(1, 3)\n",
        "    if player == 1 and bot == 1:\n",
        "        score += 0\n",
        "        nround += 1\n",
        "        print(\"Rock = Rock\")\n",
        "        print(\"You tied.\")\n",
        "    elif player == 1 and bot == 2:\n",
        "        score -= 1\n",
        "        nround += 1\n",
        "        print(\"Paper covers Rock\")\n",
        "        print(\"You lose!\")\n",
        "    elif player == 1 and bot == 3:\n",
        "        score += 1\n",
        "        nround += 1\n",
        "        print(\"Rock crushes scissors\")\n",
        "        print(\"You win!\")\n",
        "    elif player == 2 and bot == 1:\n",
        "        score += 1\n",
        "        nround += 1\n",
        "        print(\"Paper covers Rock\")\n",
        "        print(\"You win!\")\n",
        "    elif player == 2 and bot == 2:\n",
        "        score += 0\n",
        "        nround += 1\n",
        "        print(\"Paper = Paper\")\n",
        "        print(\"You tied.\")\n",
        "    elif player == 2 and bot == 3:\n",
        "        score -= 1\n",
        "        nround += 1\n",
        "        print(\"Scissors cut paper\")\n",
        "        print(\"You lose!\")\n",
        "    elif player == 3 and bot == 1:\n",
        "        score -= 1\n",
        "        nround += 1\n",
        "        print(\"Rock crushes scissors\")\n",
        "        print(\"You lose!\")\n",
        "    elif player == 3 and bot == 2:\n",
        "        score += 1\n",
        "        nround += 1\n",
        "        print(\"Scissors cut paper\")\n",
        "        print(\"You win!\")\n",
        "    elif player == 3 and bot == 3:\n",
        "        score += 0\n",
        "        nround += 1\n",
        "        print(\"Scissors = Scissors\")\n",
        "        print(\"You tied.\")\n",
        "    elif player == 0:\n",
        "        print(f\"Number of round: {nround}\")\n",
        "        print(f\"Score summary: {score}\")\n",
        "        break\n",
        "    else:\n",
        "        print(\"Invalid enter. Please enter 1. Rock, 2. Paper, 3. Scissors or 4. Quit\")"
      ],
      "metadata": {
        "colab": {
          "base_uri": "https://localhost:8080/"
        },
        "id": "1cCRFMF48VI1",
        "outputId": "69096cb1-8b5e-4202-8885-f055a3a6180a"
      },
      "execution_count": null,
      "outputs": [
        {
          "output_type": "stream",
          "name": "stdout",
          "text": [
            "Please enter your turn: 1. Rock, 2. Paper, 3. Scissors or 0. Quit\n",
            "Your turn: 3\n",
            "Scissors cut paper\n",
            "You win!\n",
            "Please enter your turn: 1. Rock, 2. Paper, 3. Scissors or 0. Quit\n",
            "Your turn: 1\n",
            "Rock crushes scissors\n",
            "You win!\n",
            "Please enter your turn: 1. Rock, 2. Paper, 3. Scissors or 0. Quit\n",
            "Your turn: 0\n",
            "Number of round: 2\n",
            "Score summary: 2\n"
          ]
        }
      ]
    }
  ]
}