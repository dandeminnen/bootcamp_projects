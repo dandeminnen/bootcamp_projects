{
  "nbformat": 4,
  "nbformat_minor": 0,
  "metadata": {
    "colab": {
      "provenance": [],
      "authorship_tag": "ABX9TyP3tWnayKKfQO4+SzwcVhYE",
      "include_colab_link": true
    },
    "kernelspec": {
      "name": "python3",
      "display_name": "Python 3"
    },
    "language_info": {
      "name": "python"
    }
  },
  "cells": [
    {
      "cell_type": "markdown",
      "metadata": {
        "id": "view-in-github",
        "colab_type": "text"
      },
      "source": [
        "<a href=\"https://colab.research.google.com/github/dandeminnen/bootcamp_projects/blob/main/Class_ATM.ipynb\" target=\"_parent\"><img src=\"https://colab.research.google.com/assets/colab-badge.svg\" alt=\"Open In Colab\"/></a>"
      ]
    },
    {
      "cell_type": "code",
      "execution_count": null,
      "metadata": {
        "id": "I56u-Z6_ASxy"
      },
      "outputs": [],
      "source": [
        "class ATM:\n",
        "    def __init__(self, name, balance):\n",
        "        self.name = name\n",
        "        self.balance = balance\n",
        "\n",
        "    def check_balance(self):\n",
        "        message = f\"Account: {self.name}, Balance: {self.balance}\"\n",
        "        print(message)\n",
        "\n",
        "    def deposit(self, money):\n",
        "        self.balance += money\n",
        "        print(\"Doposit successful.\")\n",
        "        print(f\"Remaining balance: {self.balance}\")\n",
        "\n",
        "    def withdrawal(self, money):\n",
        "        self.balance -= money\n",
        "        print(\"Withdrawal successful.\")\n",
        "        print(f\"Remaining balance: {self.balance}\")\n",
        "\n",
        "    def transfer(self, bank, account, money):\n",
        "        self.bank = bank\n",
        "        self.account = account\n",
        "        self.money = money\n",
        "        self.balance -= money\n",
        "        print(f\"You have successfully transferred {self.money} baht to {self.account} {self.bank} account.\")\n",
        "        print(f\"Remaining balance: {self.balance}\") "
      ]
    },
    {
      "cell_type": "code",
      "source": [
        "scb = ATM(\"Muklada\", 25000)"
      ],
      "metadata": {
        "id": "8m4fUohSGJtk"
      },
      "execution_count": null,
      "outputs": []
    },
    {
      "cell_type": "code",
      "source": [
        "print(scb.name, scb.balance)"
      ],
      "metadata": {
        "colab": {
          "base_uri": "https://localhost:8080/"
        },
        "id": "NiK3r08HGh7D",
        "outputId": "dd512a50-19e9-4460-e513-a08efc7cbc45"
      },
      "execution_count": null,
      "outputs": [
        {
          "output_type": "stream",
          "name": "stdout",
          "text": [
            "Muklada 25000\n"
          ]
        }
      ]
    },
    {
      "cell_type": "code",
      "source": [
        "scb.check_balance()"
      ],
      "metadata": {
        "colab": {
          "base_uri": "https://localhost:8080/"
        },
        "id": "jL1LWuZRG0MQ",
        "outputId": "28d8dab2-302f-481b-e1ca-db1b93ce89dc"
      },
      "execution_count": null,
      "outputs": [
        {
          "output_type": "stream",
          "name": "stdout",
          "text": [
            "Account: Muklada, Balance: 25000\n"
          ]
        }
      ]
    },
    {
      "cell_type": "code",
      "source": [
        "scb.deposit(500)"
      ],
      "metadata": {
        "colab": {
          "base_uri": "https://localhost:8080/"
        },
        "id": "NkHUL6fkG5Av",
        "outputId": "1877745c-424a-4bc4-9944-8438b00f2d3f"
      },
      "execution_count": null,
      "outputs": [
        {
          "output_type": "stream",
          "name": "stdout",
          "text": [
            "Doposit successful.\n",
            "Remaining balance: 25500\n"
          ]
        }
      ]
    },
    {
      "cell_type": "code",
      "source": [
        "scb.withdrawal(200)"
      ],
      "metadata": {
        "colab": {
          "base_uri": "https://localhost:8080/"
        },
        "id": "yKn6---jG-mI",
        "outputId": "a2c3b785-6808-4541-f164-e561b6898975"
      },
      "execution_count": null,
      "outputs": [
        {
          "output_type": "stream",
          "name": "stdout",
          "text": [
            "Withdrawal successful.\n",
            "Remaining balance: 25300\n"
          ]
        }
      ]
    },
    {
      "cell_type": "code",
      "source": [
        "scb.transfer(\"kbank\", \"Chayanee\", 300)"
      ],
      "metadata": {
        "colab": {
          "base_uri": "https://localhost:8080/"
        },
        "id": "Q6vX28kaHEsI",
        "outputId": "8d60b443-d157-49c1-dd6e-50132a84eb39"
      },
      "execution_count": null,
      "outputs": [
        {
          "output_type": "stream",
          "name": "stdout",
          "text": [
            "You have successfully transferred 300 baht to Chayanee kbank account.\n",
            "Remaining balance: 25000\n"
          ]
        }
      ]
    }
  ]
}